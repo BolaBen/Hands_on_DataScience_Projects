{
 "cells": [
  {
   "cell_type": "code",
   "execution_count": null,
   "metadata": {
    "collapsed": true
   },
   "outputs": [],
   "source": [
    "#Read in a CSV File\n",
    "import pandas\n",
    "\n",
    "food_info = pandas.read_csv(\"food_info.csv\")\n",
    "type(food_info)\n",
    "print(food_info)"
   ]
  },
  {
   "cell_type": "code",
   "execution_count": null,
   "metadata": {
    "collapsed": true
   },
   "outputs": [],
   "source": [
    "#Exploring the Dataset\n",
    "\n",
    "# First 3 rows.\n",
    "print(food_info.head(3))\n",
    "\n",
    "# Returns the tuple (8618,36) and assigns to `dimensions`.\n",
    "dimensions = food_info.shape\n",
    "# The number of rows, 8618.\n",
    "num_rows = dimensions[0]\n",
    "# The number of columns, 36.\n",
    "num_cols = dimensions[1]\n",
    "\n",
    "#Select the first 20 rows from food_info and assign to the variable first_twenty.\n",
    "first_twenty = food_info.head(20)"
   ]
  },
  {
   "cell_type": "code",
   "execution_count": null,
   "metadata": {
    "collapsed": true
   },
   "outputs": [],
   "source": [
    "#Series\n",
    "\n",
    "#Pandas utilizes this feature to provide more context when returning a row or a column from a dataframe. For example, \n",
    "#when you select a row from a dataframe, instead of just returning the values in that row as a list, \n",
    "#pandas returns a Series object that contains the column labels as well as the corresponding\n",
    "#values:\n",
    "\n",
    "#Selecting a row\n",
    "\n",
    "hundredth_row = food_info.loc[99]\n",
    "print(hundredth_row)"
   ]
  },
  {
   "cell_type": "code",
   "execution_count": null,
   "metadata": {
    "collapsed": true
   },
   "outputs": [],
   "source": [
    "#Selecting multiple row\n",
    "print(\"Rows 3, 4, 5 and 6\")\n",
    "print(food_info.loc[3:6])\n",
    "\n",
    "print(\"Rows 2, 5, and 10\")\n",
    "two_five_ten = [2,5,10]\n",
    "print(food_info.loc[two_five_ten])\n",
    "\n",
    "#Select the last 5 rows of food_info and assign to the variable last_rows\n",
    "last_rows = food_info.tail(5)\n",
    "print(last_rows)"
   ]
  },
  {
   "cell_type": "code",
   "execution_count": null,
   "metadata": {
    "collapsed": true
   },
   "outputs": [],
   "source": [
    "#Selecting individual column\n",
    "\n",
    "# Series object.\n",
    "ndb_col = food_info[\"NDB_No\"]\n",
    "print(ndb_col)\n",
    "\n",
    "# Display the type of the column to confirm it's a Series object.\n",
    "print(type(ndb_col))\n",
    "\n",
    "#Assign the \"FA_Sat_(g)\" column to the variable saturated_fat\n",
    "saturated_fat = food_info[\"FA_Sat_(g)\"]\n",
    "\n",
    "#Assign the \"Cholestrl_(mg)\" column to the variable cholesterol\n",
    "cholesterol = food_info[\"Cholestrl_(mg)\"]"
   ]
  },
  {
   "cell_type": "code",
   "execution_count": null,
   "metadata": {
    "collapsed": true
   },
   "outputs": [],
   "source": [
    "#Selecting multiple columns by name\n",
    "zinc_copper = food_info[[\"Zinc_(mg)\", \"Copper_(mg)\"]]\n",
    "\n",
    "columns = [\"Zinc_(mg)\", \"Copper_(mg)\"]\n",
    "zinc_copper = food_info[columns]\n",
    "\n",
    "#Select the 'Selenium_(mcg)' and 'Thiamin_(mg)' columns and assign the resulting dataframe to selenium_thiamin\n",
    "selenium_thiamin = food_info[[\"Selenium_(mcg)\", \"Thiamin_(mg)\"]]"
   ]
  },
  {
   "cell_type": "code",
   "execution_count": null,
   "metadata": {
    "collapsed": true
   },
   "outputs": [],
   "source": [
    "#Practice\n",
    "\n",
    "#Select and display only the columns that use grams for measurement (that end with \"(g)\"). To accomplish this:\n",
    "\n",
    "print(food_info.columns)\n",
    "print(food_info.head(2))\n",
    "\n",
    "#Use the columns attribute to return the column names in food_info and convert to a list by calling the method tolist()\n",
    "col = food_info.columns.tolist()\n",
    "\n",
    "#Create a new list, gram_columns, containing only the column names that end in \"(g)\". The string method endswith()\n",
    "#returns True if the string object calling the method ends with the string passed into the parentheses.\n",
    "gram_columns = []\n",
    "\n",
    "for co in col:\n",
    "    if co.endswith(\"(g)\") == True:\n",
    "        gram_columns.append(co)\n",
    "\n",
    "#Pass gram_columns into bracket notation to select just those columns and assign the resulting dataframe to gram_df        \n",
    "gram_df = food_info[gram_columns]\n",
    "\n",
    "#Then use the dataframe method head() to display the first 3 rows of gram_df.\n",
    "print(gram_df.head(3))\n"
   ]
  }
 ],
 "metadata": {
  "kernelspec": {
   "display_name": "Python 3",
   "language": "python",
   "name": "python3"
  },
  "language_info": {
   "codemirror_mode": {
    "name": "ipython",
    "version": 3
   },
   "file_extension": ".py",
   "mimetype": "text/x-python",
   "name": "python",
   "nbconvert_exporter": "python",
   "pygments_lexer": "ipython3",
   "version": "3.6.1"
  }
 },
 "nbformat": 4,
 "nbformat_minor": 2
}
