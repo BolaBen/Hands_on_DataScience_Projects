{
 "cells": [
  {
   "cell_type": "markdown",
   "metadata": {},
   "source": [
    "## U.S. births data\n",
    "\n",
    "The raw data behind the story **Some People Are Too Superstitious To Have A Baby On Friday The 13th**, which you can read ...\n",
    "(http://fivethirtyeight.com/features/some-people-are-too-superstitious-to-have-a-baby-on-friday-the-13th/)\n",
    "\n",
    "- 'year' - Year\n",
    "- 'month' - Month\n",
    "- 'date_of_month' - Day number of the month\n",
    "- 'day_of_week' - Day of week, where 1 is Monday and 7 is Sunday \n",
    "- 'births' - Number of births"
   ]
  },
  {
   "cell_type": "markdown",
   "metadata": {},
   "source": [
    "** Highlight of What to expect:**"
   ]
  },
  {
   "cell_type": "markdown",
   "metadata": {},
   "source": [
    "** Data Cleaning & Data Analysis**"
   ]
  }
 ],
 "metadata": {
  "kernelspec": {
   "display_name": "Python 3",
   "language": "python",
   "name": "python3"
  },
  "language_info": {
   "codemirror_mode": {
    "name": "ipython",
    "version": 3
   },
   "file_extension": ".py",
   "mimetype": "text/x-python",
   "name": "python",
   "nbconvert_exporter": "python",
   "pygments_lexer": "ipython3",
   "version": "3.6.1"
  }
 },
 "nbformat": 4,
 "nbformat_minor": 2
}
