{
 "cells": [
  {
   "cell_type": "markdown",
   "metadata": {},
   "source": [
    "## Python dictionary example"
   ]
  },
  {
   "cell_type": "code",
   "execution_count": 12,
   "metadata": {},
   "outputs": [
    {
     "name": "stdout",
     "output_type": "stream",
     "text": [
      "My profile:\n",
      "{'name': 'Godson', 'gender': 'male', 'status': 'single'}\n",
      "Engineering constants:\n",
      "{'k': 1.3805e-23, 'h': 6.625e-34, 'c': 299800000.0}\n",
      "Student detail:\n",
      "{'name': 'Oscar', 'dept': 'computer science', 'level': 300}\n",
      "Empty dictionary:\n",
      "{}\n"
     ]
    }
   ],
   "source": [
    "my_profile = {\"name\":\"Godson\",\"gender\":\"male\",\"status\":\"single\"}\n",
    "constants={\"k\":1.3805e-23,\"h\":6.625e-34,\"c\":2.998e08}\n",
    "student_info={\"name\":\"Oscar\",\"dept\":\"computer science\",\"level\":300}\n",
    "empty_dict={}\n",
    "print(\"My profile:\",my_profile,\"Engineering constants:\",constants,sep=\"\\n\")\n",
    "print(\"Student detail:\",student_info,\"Empty dictionary:\",empty_dict,sep=\"\\n\")"
   ]
  },
  {
   "cell_type": "markdown",
   "metadata": {},
   "source": [
    "## Adding keys to an existing Python Dictionary"
   ]
  },
  {
   "cell_type": "code",
   "execution_count": 13,
   "metadata": {},
   "outputs": [
    {
     "data": {
      "text/plain": [
       "{'gender': 'Male', 'name': 'Bolanle', 'status': 'Married'}"
      ]
     },
     "execution_count": 13,
     "metadata": {},
     "output_type": "execute_result"
    }
   ],
   "source": [
    "my_profile = {}\n",
    "my_profile[\"name\"] = \"Bolanle\"\n",
    "my_profile[\"gender\"] = \"Male\"\n",
    "my_profile[\"status\"] = \"Married\"\n",
    "my_profile"
   ]
  },
  {
   "cell_type": "markdown",
   "metadata": {},
   "source": [
    "## How to know the number of entries in a Python dictionary using len()"
   ]
  },
  {
   "cell_type": "code",
   "execution_count": 18,
   "metadata": {},
   "outputs": [
    {
     "name": "stdout",
     "output_type": "stream",
     "text": [
      "the lenght of my profile is: 3\n"
     ]
    }
   ],
   "source": [
    "#lenght of my_profile\n",
    "profile_len = len(my_profile)\n",
    "print(\"the lenght of my profile is:\", len(my_profile))"
   ]
  },
  {
   "cell_type": "markdown",
   "metadata": {},
   "source": [
    "## Creating a simple program of a student info using python dictionary"
   ]
  },
  {
   "cell_type": "code",
   "execution_count": 19,
   "metadata": {},
   "outputs": [
    {
     "name": "stdout",
     "output_type": "stream",
     "text": [
      "student's name is : oscar\n",
      "department is : computer science\n",
      "level is : 300\n"
     ]
    }
   ],
   "source": [
    "student_details = {'name' : 'oscar', 'dept' : 'computer science',\\\n",
    "                   'level' : '300'}\n",
    "print(\"student's name is :\", student_details['name'])\n",
    "print(\"department is :\", student_details['dept'])\n",
    "print(\"level is :\", student_details['level'])\n"
   ]
  },
  {
   "cell_type": "markdown",
   "metadata": {},
   "source": [
    "## Project 1:\n",
    "\n",
    "Write a Python program to prompt the user to enter the position of a chemical element and output the element. Your program should cover the first 20 elements.\n",
    "\n",
    "The first 20 elements are:\n",
    "\n",
    "Hydrogen, Helium, Lithium, Beryllium, Boron, Carbon, Nitrogen, Oxygen, Fluorine, Neon, Sodium, Magnesium, Aluminum, Silicon, Phosphorus, Sulphur, Chlorine, Argon, Potassium,  Calcium.\n",
    "\n",
    "Save the program as elements.py"
   ]
  },
  {
   "cell_type": "code",
   "execution_count": null,
   "metadata": {},
   "outputs": [
    {
     "name": "stdout",
     "output_type": "stream",
     "text": [
      "To quit, press Enter\n",
      "Enter the element's position(1-20):3\n",
      "3 :  Lithium\n",
      "Enter the element's position(1-20):8\n",
      "8 :  Oxygen\n"
     ]
    }
   ],
   "source": [
    "# element.py\n",
    "print(\"To quit, press Enter\")\n",
    "elements={1:\"Hydrogen\",2:\"Helium\",3:\"Lithium\",4:\"Beryllium\",5:\"Boron\",\n",
    "          6:\"Carbon\",7:\"Nitrogen\",8:\"Oxygen\",9:\"Flourine\",10:\"Neon\",\n",
    "          11:\"Sodium\",12:\"Magnesium\",13:\"Aluminum\",14:\"Silicon\",\n",
    "          15:\"Phosphorus\",16:\"Sulphur\",17:\"Chlorine\",18:\"Argon\",\n",
    "          19:\"Potassium\",20:\"Calcium\"}\n",
    "while True:\n",
    "    element_position=int(input(\"Enter the element's position(1-20):\"))\n",
    "    if element_position ==\"\":\n",
    "        break\n",
    "    else:\n",
    "        print(element_position,\": \",elements[element_position])"
   ]
  },
  {
   "cell_type": "markdown",
   "metadata": {
    "collapsed": true
   },
   "source": [
    "## Replacing  the values of an existing Python dictionary"
   ]
  },
  {
   "cell_type": "code",
   "execution_count": 1,
   "metadata": {},
   "outputs": [
    {
     "data": {
      "text/plain": [
       "{'dept': 'computer science', 'level': '300', 'name': 'kenneth'}"
      ]
     },
     "execution_count": 1,
     "metadata": {},
     "output_type": "execute_result"
    }
   ],
   "source": [
    "student_details = {'name' : 'oscar', 'dept' : 'computer science',\\\n",
    "                   'level' : '300'}\n",
    "student_details[\"name\"] = 'kenneth'\n",
    "student_details"
   ]
  },
  {
   "cell_type": "markdown",
   "metadata": {},
   "source": [
    "## Accessing the values of a Python Dictionary."
   ]
  },
  {
   "cell_type": "code",
   "execution_count": 11,
   "metadata": {},
   "outputs": [
    {
     "data": {
      "text/plain": [
       "'computer science'"
      ]
     },
     "execution_count": 11,
     "metadata": {},
     "output_type": "execute_result"
    }
   ],
   "source": [
    "student_details = {'name' : 'oscar', 'dept' : 'computer science',\\\n",
    "                   'level' : '300'}\n",
    "student_details[\"dept\"]"
   ]
  },
  {
   "cell_type": "markdown",
   "metadata": {},
   "source": [
    "## Removing Entries in Python Dictionary using del & D.pop()."
   ]
  },
  {
   "cell_type": "code",
   "execution_count": 12,
   "metadata": {},
   "outputs": [
    {
     "data": {
      "text/plain": [
       "{'Uzo': '+2348100111533'}"
      ]
     },
     "execution_count": 12,
     "metadata": {},
     "output_type": "execute_result"
    }
   ],
   "source": [
    "phone_book={\"Dad\":\"+2347085734411\",\"Mom\":\"+2348062315643\", \\\n",
    "            \"Uzo\":\"+2348100111533\",\"Lynn\":\"+2348169553141\"}\n",
    "del phone_book[\"Lynn\"]\n",
    "phone_book\n",
    "del phone_book[\"Dad\"]\n",
    "phone_book\n",
    "del phone_book[\"Mom\"]\n",
    "phone_book"
   ]
  },
  {
   "cell_type": "code",
   "execution_count": 15,
   "metadata": {},
   "outputs": [
    {
     "data": {
      "text/plain": [
       "{'Dad': '+2347085734411'}"
      ]
     },
     "execution_count": 15,
     "metadata": {},
     "output_type": "execute_result"
    }
   ],
   "source": [
    "#The pop() method can be used to remove entries in a Python dictionary. The key has to be in the dictionary. \n",
    "#This method removes the key that’s present in the dictionary and returns the value of the associated key.\n",
    "\n",
    "phone_book={\"Dad\":\"+2347085734411\",\"Mom\":\"+2348062315643\", \\\n",
    "            \"Uzo\":\"+2348100111533\",\"Lynn\":\"+2348169553141\"}\n",
    "    \n",
    "phone_book.pop(\"Mom\")\n",
    "phone_book\n",
    "phone_book.pop(\"Lynn\")\n",
    "phone_book\n",
    "phone_book.pop(\"Uzo\")\n",
    "phone_book"
   ]
  },
  {
   "cell_type": "markdown",
   "metadata": {},
   "source": [
    "## Handling key error with the dictionary"
   ]
  },
  {
   "cell_type": "code",
   "execution_count": 17,
   "metadata": {},
   "outputs": [
    {
     "name": "stdout",
     "output_type": "stream",
     "text": [
      "gender : None\n"
     ]
    }
   ],
   "source": [
    "#Note: If the key is not present in the dictionary, Python will raise a KeyError.\n",
    "#To avoid error in our program, you do the following:\n",
    "\n",
    "phone_book={\"Dad\":\"+2347085734411\",\"Mom\":\"+2348062315643\", \\\n",
    "            \"Uzo\":\"+2348100111533\",\"Lynn\":\"+2348169553141\"}\n",
    "print(\"gender :\", phone_book.pop(\"gender\", None))\n",
    "\n",
    "#The None argument prevents a KeyError when the key is not present in the dictionary. So advice you use it"
   ]
  },
  {
   "cell_type": "markdown",
   "metadata": {},
   "source": [
    "## The value() method list(dict.values()):"
   ]
  },
  {
   "cell_type": "code",
   "execution_count": 20,
   "metadata": {},
   "outputs": [
    {
     "data": {
      "text/plain": [
       "['+2347085734411', '+2348062315643', '+2348100111533', '+2348169553141']"
      ]
     },
     "execution_count": 20,
     "metadata": {},
     "output_type": "execute_result"
    }
   ],
   "source": [
    "#This Python dictionary method returns a list of the values in a dictionary.\n",
    "\n",
    "phone_book={\"Dad\":\"+2347085734411\",\"Mom\":\"+2348062315643\", \\\n",
    "            \"Uzo\":\"+2348100111533\",\"Lynn\":\"+2348169553141\"}\n",
    "list(phone_book.values())"
   ]
  },
  {
   "cell_type": "markdown",
   "metadata": {},
   "source": [
    "## The items() method list(dict.items()):"
   ]
  },
  {
   "cell_type": "code",
   "execution_count": 21,
   "metadata": {},
   "outputs": [
    {
     "data": {
      "text/plain": [
       "[('Dad', '+2347085734411'),\n",
       " ('Mom', '+2348062315643'),\n",
       " ('Uzo', '+2348100111533'),\n",
       " ('Lynn', '+2348169553141')]"
      ]
     },
     "execution_count": 21,
     "metadata": {},
     "output_type": "execute_result"
    }
   ],
   "source": [
    "#This Python dictionary method returns a list of the items in a dictionary.\n",
    "\n",
    "phone_book={\"Dad\":\"+2347085734411\",\"Mom\":\"+2348062315643\", \\\n",
    "            \"Uzo\":\"+2348100111533\",\"Lynn\":\"+2348169553141\"}\n",
    "list(phone_book.items())"
   ]
  },
  {
   "cell_type": "markdown",
   "metadata": {},
   "source": [
    "## The clear() method Dict.clear():"
   ]
  },
  {
   "cell_type": "code",
   "execution_count": 24,
   "metadata": {},
   "outputs": [
    {
     "data": {
      "text/plain": [
       "{}"
      ]
     },
     "execution_count": 24,
     "metadata": {},
     "output_type": "execute_result"
    }
   ],
   "source": [
    "#This Python dictionary method clears all items in a dictionary.\n",
    "\n",
    "phone_book={\"Dad\":\"+2347085734411\",\"Mom\":\"+2348062315643\", \\\n",
    "            \"Uzo\":\"+2348100111533\",\"Lynn\":\"+2348169553141\"}\n",
    "phone_book.clear()\n",
    "phone_book"
   ]
  },
  {
   "cell_type": "markdown",
   "metadata": {},
   "source": [
    "## The keys() method Dict.keys():"
   ]
  },
  {
   "cell_type": "code",
   "execution_count": 25,
   "metadata": {},
   "outputs": [
    {
     "data": {
      "text/plain": [
       "dict_keys(['Dad', 'Mom', 'Uzo', 'Lynn'])"
      ]
     },
     "execution_count": 25,
     "metadata": {},
     "output_type": "execute_result"
    }
   ],
   "source": [
    "#This Python dictionary method returns all keys in a dictionary.\n",
    "\n",
    "phone_book={\"Dad\":\"+2347085734411\",\"Mom\":\"+2348062315643\", \\\n",
    "            \"Uzo\":\"+2348100111533\",\"Lynn\":\"+2348169553141\"}\n",
    "phone_book.keys()"
   ]
  },
  {
   "cell_type": "markdown",
   "metadata": {},
   "source": [
    "## The copy() method Dict.copy():"
   ]
  },
  {
   "cell_type": "code",
   "execution_count": 28,
   "metadata": {},
   "outputs": [
    {
     "name": "stdout",
     "output_type": "stream",
     "text": [
      "new details : {'Dad': '+2347085734411', 'Mom': '+2348062315643', 'Uzo': '+2348100111533', 'Lynn': '+2348169553141'}\n",
      "old details : {'Dad': '+2347085734411', 'Mom': '+2348062315643', 'Uzo': '+2348100111533', 'Lynn': '+2348169553141'}\n"
     ]
    }
   ],
   "source": [
    "#This Python dictionary method create a shadow copy of a dictionary.\n",
    "\n",
    "phone_book={\"Dad\":\"+2347085734411\",\"Mom\":\"+2348062315643\", \\\n",
    "            \"Uzo\":\"+2348100111533\",\"Lynn\":\"+2348169553141\"}\n",
    "new_details = phone_book.copy()\n",
    "print(\"new details :\", new_details)\n",
    "print(\"old details :\", phone_book)"
   ]
  },
  {
   "cell_type": "markdown",
   "metadata": {
    "collapsed": true
   },
   "source": [
    "## The get method Dict.get(key,[default] ):"
   ]
  },
  {
   "cell_type": "code",
   "execution_count": 3,
   "metadata": {},
   "outputs": [
    {
     "name": "stdout",
     "output_type": "stream",
     "text": [
      "Uzo's number : +2348100111533\n",
      "Dad's number : +2347085734411\n",
      "Ken's number : None\n"
     ]
    }
   ],
   "source": [
    "# This Python dictionary method returns the value of the specified key. If the key is not present, a default value is returned.\n",
    "\n",
    "\n",
    "phone_book={\"Dad\":\"+2347085734411\",\"Mom\":\"+2348062315643\", \\\n",
    "            \"Uzo\":\"+2348100111533\",\"Lynn\":\"+2348169553141\"}\n",
    "\n",
    "print(\"Uzo's number :\", phone_book.get(\"Uzo\", None))\n",
    "print(\"Dad's number :\", phone_book.get(\"Dad\", None))\n",
    "print(\"Ken's number :\", phone_book.get(\"Ken\", None))"
   ]
  },
  {
   "cell_type": "markdown",
   "metadata": {},
   "source": [
    "## The setdefault() method: Dict.setdefault(key[,value]):\n",
    "\n",
    "Apart from using a subscript operator [] to add a new entry to a Python dictionary, a setdefault() method can be used to add a new entry.\n",
    "\n",
    "But there’s a twist to this method. Here’s the twist.\n",
    "\n",
    "Two arguments are passed to this method. The first argument checks if the key exists, if it does not exist the second argument passed is the value assigned to the key. This value is returned.\n",
    "\n",
    "But if the first argument exists in the dictionary, the original value is returned and the second argument is ignored."
   ]
  },
  {
   "cell_type": "code",
   "execution_count": 7,
   "metadata": {},
   "outputs": [
    {
     "name": "stdout",
     "output_type": "stream",
     "text": [
      "+2348169553141\n",
      "female\n"
     ]
    }
   ],
   "source": [
    "phone_book={\"Dad\":\"+2347085734411\",\"Mom\":\"+2348062315643\", \\\n",
    "            \"Uzo\":\"+2348100111533\",\"Lynn\":\"+2348169553141\"}\n",
    "\n",
    "print(phone_book.setdefault(\"Lynn\", \"female\"))\n",
    "print(phone_book.setdefault(\"Kate\", \"female\"))"
   ]
  },
  {
   "cell_type": "markdown",
   "metadata": {},
   "source": [
    "## Checking if a key or value exists in a Python dictionary.\n",
    "The in operator can be used to check if a key or value exists in a Python dictionary.\n",
    "\n",
    "If the key or value is in the dictionary, a True value is returned. If the key or value is not present, \n",
    "a False value is returned.\n",
    "\n",
    "If you use a not in operator if the key or value is present a False value is returned and vice versa."
   ]
  },
  {
   "cell_type": "code",
   "execution_count": 1,
   "metadata": {},
   "outputs": [
    {
     "name": "stdout",
     "output_type": "stream",
     "text": [
      "is Dad in Contact's list?  True\n",
      "is Uzo not in Contact's list?  False\n"
     ]
    }
   ],
   "source": [
    "phone_book={\"Dad\":\"+2347085734411\",\"Mom\":\"+2348062315643\", \\\n",
    "            \"Uzo\":\"+2348100111533\",\"Lynn\":\"+2348169553141\"}\n",
    "\n",
    "print(\"is Dad in Contact's list? \", \"Dad\" in phone_book)\n",
    "print(\"is Uzo not in Contact's list? \", \"Uzo\" not in phone_book)"
   ]
  },
  {
   "cell_type": "markdown",
   "metadata": {},
   "source": [
    "## project 2\n",
    "\n",
    "Write a program to store your love ones phone number using the concept of Python dictionary."
   ]
  },
  {
   "cell_type": "code",
   "execution_count": 5,
   "metadata": {},
   "outputs": [
    {
     "name": "stdout",
     "output_type": "stream",
     "text": [
      "please enter your name: Uzo\n",
      "your phone number is :  +2348100111533\n"
     ]
    }
   ],
   "source": [
    "phone_book={\"Dad\":\"+2347085734411\",\"Mom\":\"+2348062315643\", \\\n",
    "            \"Uzo\":\"+2348100111533\",\"Lynn\":\"+2348169553141\"}\n",
    "\n",
    "label = input(\"please enter your name: \")\n",
    "if label == \" \":\n",
    "    print(\"please type your name\")\n",
    "if label in phone_book:\n",
    "    print(\"your phone number is : \", phone_book[label])\n",
    "else:\n",
    "    print(\"contact not found: \")\n",
    "    new_contact = input(\"please enter your number: \")\n",
    "    phone_book[label] = new_contact\n",
    "    print(\"your details has been updated\", phone_book[label])\n",
    "    \n"
   ]
  },
  {
   "cell_type": "code",
   "execution_count": null,
   "metadata": {
    "collapsed": true
   },
   "outputs": [],
   "source": []
  }
 ],
 "metadata": {
  "kernelspec": {
   "display_name": "Python 3",
   "language": "python",
   "name": "python3"
  }
 },
 "nbformat": 4,
 "nbformat_minor": 2
}
